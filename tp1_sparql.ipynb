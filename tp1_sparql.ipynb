{
 "cells": [
  {
   "cell_type": "markdown",
   "metadata": {},
   "source": [
    "# Obtenir la liste des Premiers ministres belges, francophones et ayant été députés européens"
   ]
  },
  {
   "cell_type": "code",
   "execution_count": null,
   "metadata": {},
   "outputs": [],
   "source": [
    "# pip install sparqlwrapper\n",
    "# https://rdflib.github.io/sparqlwrapper/\n",
    "\n",
    "import sys\n",
    "from SPARQLWrapper import SPARQLWrapper, JSON\n",
    "\n",
    "# P27 = country of citizenship \n",
    "# Q31 = Belgium\n",
    "# P39 = position held\n",
    "# Q14212 = prime minister\n",
    "# P103 = native language\n",
    "# Q150 = french\n",
    "# Q27169 = member of the European Parliament\n",
    "\n",
    "\n",
    "endpoint_url = \"https://query.wikidata.org/sparql\"\n",
    "\n",
    "query = \"\"\"SELECT DISTINCT ?item WHERE {\n",
    "  ?item p:P27 ?statement0.\n",
    "  ?statement0 (ps:P27/(wdt:P279*)) wd:Q31.\n",
    "  ?item p:P39 ?statement1.\n",
    "  ?statement1 (ps:P39/(wdt:P279*)) wd:Q14212.\n",
    "  ?item p:P103 ?statement2.\n",
    "  ?statement2 (ps:P103/(wdt:P279*)) wd:Q150.\n",
    "  ?item p:P39 ?statement3.\n",
    "  ?statement3 (ps:P39/(wdt:P279*)) wd:Q27169.\n",
    "}\n",
    "LIMIT 10\"\"\"\n",
    "\n",
    "\n",
    "def get_results(endpoint_url, query):\n",
    "    user_agent = \"WDQS-example Python/%s.%s\" % (sys.version_info[0], sys.version_info[1])\n",
    "    # TODO adjust user agent; see https://w.wiki/CX6\n",
    "    sparql = SPARQLWrapper(endpoint_url, agent=user_agent)\n",
    "    sparql.setQuery(query)\n",
    "    sparql.setReturnFormat(JSON)\n",
    "    return sparql.query().convert()\n",
    "\n",
    "\n",
    "results = get_results(endpoint_url, query)\n",
    "\n",
    "for result in results[\"results\"][\"bindings\"]:\n",
    "    print(result)\n"
   ]
  }
 ],
 "metadata": {
  "kernelspec": {
   "display_name": "Python 3.10.8 64-bit",
   "language": "python",
   "name": "python3"
  },
  "language_info": {
   "name": "python",
   "version": "3.10.8"
  },
  "orig_nbformat": 4,
  "vscode": {
   "interpreter": {
    "hash": "89b5318af201cfb04e7d524c1b6673359def82d0442565728f41e5df2809b9b3"
   }
  }
 },
 "nbformat": 4,
 "nbformat_minor": 2
}
